{
  "nbformat": 4,
  "nbformat_minor": 0,
  "metadata": {
    "colab": {
      "provenance": [],
      "authorship_tag": "ABX9TyMODLdEHysQdj2nReRi1TzN",
      "include_colab_link": true
    },
    "kernelspec": {
      "name": "python3",
      "display_name": "Python 3"
    },
    "language_info": {
      "name": "python"
    }
  },
  "cells": [
    {
      "cell_type": "markdown",
      "metadata": {
        "id": "view-in-github",
        "colab_type": "text"
      },
      "source": [
        "<a href=\"https://colab.research.google.com/github/KringeKrimson/Pytorch-Basics/blob/main/Simple_CNN.ipynb\" target=\"_parent\"><img src=\"https://colab.research.google.com/assets/colab-badge.svg\" alt=\"Open In Colab\"/></a>"
      ]
    },
    {
      "cell_type": "markdown",
      "source": [
        "#Import all the required libraries"
      ],
      "metadata": {
        "id": "klh1tfsYHcy4"
      }
    },
    {
      "cell_type": "code",
      "execution_count": 1,
      "metadata": {
        "id": "GE-9hrXxGJ5T"
      },
      "outputs": [],
      "source": [
        "import torch\n",
        "import torch.nn as nn\n",
        "import torch.nn.functional as F\n",
        "from torch.utils.data import DataLoader\n",
        "from torchvision import datasets, transforms #datasets already has MINST in it\n",
        "from torchvision.utils import make_grid\n",
        "\n",
        "import numpy as np\n",
        "import pandas as pd\n",
        "from sklearn.metrics import confusion_matrix\n",
        "import matplotlib.pyplot as plt\n",
        "%matplotlib inline\n",
        "# to make sure that matplotlib graphs will be displayed inline in the notebook\n"
      ]
    },
    {
      "cell_type": "markdown",
      "source": [
        "#Convert to tensor"
      ],
      "metadata": {
        "id": "HeMwGLMKHmd9"
      }
    },
    {
      "cell_type": "code",
      "source": [
        "transform = transforms.ToTensor()"
      ],
      "metadata": {
        "id": "DmAL-g8SIG4V"
      },
      "execution_count": 2,
      "outputs": []
    },
    {
      "cell_type": "markdown",
      "source": [
        "#Prepare/Download Train data"
      ],
      "metadata": {
        "id": "6ng4qoZQINke"
      }
    },
    {
      "cell_type": "code",
      "source": [
        "train_data = datasets.MNIST(root='Simple_CNN', train=True, download=True, transform=transform)\n",
        "                            #directory to save, Determines whether to load traning or testing set T: traning F: testing, download in local directory, transform(specificed by the user)"
      ],
      "metadata": {
        "colab": {
          "base_uri": "https://localhost:8080/"
        },
        "id": "nQRMYv9vIXu3",
        "outputId": "3055c8b4-9ee2-4863-ed52-a417d48c1215"
      },
      "execution_count": 3,
      "outputs": [
        {
          "output_type": "stream",
          "name": "stdout",
          "text": [
            "Downloading http://yann.lecun.com/exdb/mnist/train-images-idx3-ubyte.gz\n",
            "Failed to download (trying next):\n",
            "HTTP Error 403: Forbidden\n",
            "\n",
            "Downloading https://ossci-datasets.s3.amazonaws.com/mnist/train-images-idx3-ubyte.gz\n",
            "Downloading https://ossci-datasets.s3.amazonaws.com/mnist/train-images-idx3-ubyte.gz to Simple_CNN/MNIST/raw/train-images-idx3-ubyte.gz\n"
          ]
        },
        {
          "output_type": "stream",
          "name": "stderr",
          "text": [
            "100%|██████████| 9912422/9912422 [00:00<00:00, 15993223.24it/s]\n"
          ]
        },
        {
          "output_type": "stream",
          "name": "stdout",
          "text": [
            "Extracting Simple_CNN/MNIST/raw/train-images-idx3-ubyte.gz to Simple_CNN/MNIST/raw\n",
            "\n",
            "Downloading http://yann.lecun.com/exdb/mnist/train-labels-idx1-ubyte.gz\n",
            "Failed to download (trying next):\n",
            "HTTP Error 403: Forbidden\n",
            "\n",
            "Downloading https://ossci-datasets.s3.amazonaws.com/mnist/train-labels-idx1-ubyte.gz\n",
            "Downloading https://ossci-datasets.s3.amazonaws.com/mnist/train-labels-idx1-ubyte.gz to Simple_CNN/MNIST/raw/train-labels-idx1-ubyte.gz\n"
          ]
        },
        {
          "output_type": "stream",
          "name": "stderr",
          "text": [
            "100%|██████████| 28881/28881 [00:00<00:00, 1767037.09it/s]\n"
          ]
        },
        {
          "output_type": "stream",
          "name": "stdout",
          "text": [
            "Extracting Simple_CNN/MNIST/raw/train-labels-idx1-ubyte.gz to Simple_CNN/MNIST/raw\n",
            "\n",
            "Downloading http://yann.lecun.com/exdb/mnist/t10k-images-idx3-ubyte.gz\n",
            "Failed to download (trying next):\n",
            "HTTP Error 403: Forbidden\n",
            "\n",
            "Downloading https://ossci-datasets.s3.amazonaws.com/mnist/t10k-images-idx3-ubyte.gz\n",
            "Downloading https://ossci-datasets.s3.amazonaws.com/mnist/t10k-images-idx3-ubyte.gz to Simple_CNN/MNIST/raw/t10k-images-idx3-ubyte.gz\n"
          ]
        },
        {
          "output_type": "stream",
          "name": "stderr",
          "text": [
            "100%|██████████| 1648877/1648877 [00:00<00:00, 7833357.76it/s]\n"
          ]
        },
        {
          "output_type": "stream",
          "name": "stdout",
          "text": [
            "Extracting Simple_CNN/MNIST/raw/t10k-images-idx3-ubyte.gz to Simple_CNN/MNIST/raw\n",
            "\n",
            "Downloading http://yann.lecun.com/exdb/mnist/t10k-labels-idx1-ubyte.gz\n",
            "Failed to download (trying next):\n",
            "HTTP Error 403: Forbidden\n",
            "\n",
            "Downloading https://ossci-datasets.s3.amazonaws.com/mnist/t10k-labels-idx1-ubyte.gz\n",
            "Downloading https://ossci-datasets.s3.amazonaws.com/mnist/t10k-labels-idx1-ubyte.gz to Simple_CNN/MNIST/raw/t10k-labels-idx1-ubyte.gz\n"
          ]
        },
        {
          "output_type": "stream",
          "name": "stderr",
          "text": [
            "100%|██████████| 4542/4542 [00:00<00:00, 2945350.77it/s]"
          ]
        },
        {
          "output_type": "stream",
          "name": "stdout",
          "text": [
            "Extracting Simple_CNN/MNIST/raw/t10k-labels-idx1-ubyte.gz to Simple_CNN/MNIST/raw\n",
            "\n"
          ]
        },
        {
          "output_type": "stream",
          "name": "stderr",
          "text": [
            "\n"
          ]
        }
      ]
    },
    {
      "cell_type": "markdown",
      "source": [
        "#Test data"
      ],
      "metadata": {
        "id": "clhAP5N_KDJw"
      }
    },
    {
      "cell_type": "code",
      "source": [
        "test_data = datasets.MNIST(root='Simple_CNN', train=False, download=True, transform=transform)\n",
        "test_data"
      ],
      "metadata": {
        "colab": {
          "base_uri": "https://localhost:8080/"
        },
        "id": "7_plEYloKE0g",
        "outputId": "6df4bcf5-827e-45bc-8d24-2235d62a270d"
      },
      "execution_count": 4,
      "outputs": [
        {
          "output_type": "execute_result",
          "data": {
            "text/plain": [
              "Dataset MNIST\n",
              "    Number of datapoints: 10000\n",
              "    Root location: Simple_CNN\n",
              "    Split: Test\n",
              "    StandardTransform\n",
              "Transform: ToTensor()"
            ]
          },
          "metadata": {},
          "execution_count": 4
        }
      ]
    },
    {
      "cell_type": "markdown",
      "source": [
        "#Create Small batch size"
      ],
      "metadata": {
        "id": "Kf3vVWhAO32j"
      }
    },
    {
      "cell_type": "code",
      "source": [
        "train_loader = DataLoader(train_data, batch_size=10, shuffle=True)\n",
        "test_loader = DataLoader(test_data, batch_size=10, shuffle=False)"
      ],
      "metadata": {
        "id": "9bxYDMJtPyB5"
      },
      "execution_count": 5,
      "outputs": []
    },
    {
      "cell_type": "markdown",
      "source": [
        "# Defining Convolutional layer"
      ],
      "metadata": {
        "id": "5loAzmuXPwIz"
      }
    },
    {
      "cell_type": "code",
      "source": [
        "conv1 = nn.Conv2d(in_channels=1, out_channels=6, kernel_size=3,stride = 1)\n",
        "conv2 = nn.Conv2d(in_channels=6, out_channels=16, kernel_size=3,stride = 1)"
      ],
      "metadata": {
        "id": "jF62cTl8P6yD"
      },
      "execution_count": 10,
      "outputs": []
    },
    {
      "cell_type": "markdown",
      "source": [
        "#Grab 1 MNIST record/image"
      ],
      "metadata": {
        "id": "KH88tHs_QtAa"
      }
    },
    {
      "cell_type": "code",
      "source": [
        "for i, (X_train, y_train) in enumerate(train_data):\n",
        "  print(f'Shape: {X_train.shape}')\n",
        "  break"
      ],
      "metadata": {
        "colab": {
          "base_uri": "https://localhost:8080/"
        },
        "id": "NptSdx6zQwQm",
        "outputId": "ce30dfc4-9f6f-47d9-cfd0-15f7889d729f"
      },
      "execution_count": 14,
      "outputs": [
        {
          "output_type": "stream",
          "name": "stdout",
          "text": [
            "Shape: torch.Size([1, 28, 28])\n"
          ]
        }
      ]
    },
    {
      "cell_type": "markdown",
      "source": [
        "#Rehshaping x to tensor"
      ],
      "metadata": {
        "id": "oj9P3GSGglOX"
      }
    },
    {
      "cell_type": "code",
      "source": [
        "x = X_train.view(1,1,28,28)"
      ],
      "metadata": {
        "id": "pB3EAMt6go2j"
      },
      "execution_count": 13,
      "outputs": []
    },
    {
      "cell_type": "markdown",
      "source": [
        "#Perform first convolution"
      ],
      "metadata": {
        "id": "ogNkiPRJgugf"
      }
    },
    {
      "cell_type": "code",
      "source": [
        "x = F.relu(conv1(x))\n",
        "x.shape"
      ],
      "metadata": {
        "colab": {
          "base_uri": "https://localhost:8080/"
        },
        "id": "jlGELnc3g0DZ",
        "outputId": "9e68e714-c678-411e-8489-c16529805d4f"
      },
      "execution_count": 15,
      "outputs": [
        {
          "output_type": "execute_result",
          "data": {
            "text/plain": [
              "torch.Size([1, 6, 26, 26])"
            ]
          },
          "metadata": {},
          "execution_count": 15
        }
      ]
    },
    {
      "cell_type": "markdown",
      "source": [
        "#Perform maxpool"
      ],
      "metadata": {
        "id": "rw-z1bX6hi1r"
      }
    },
    {
      "cell_type": "code",
      "source": [
        "x = F.max_pool2d(x, kernel_size=2, stride =2)\n",
        "x.shape"
      ],
      "metadata": {
        "colab": {
          "base_uri": "https://localhost:8080/"
        },
        "id": "w81hEI7hhmpv",
        "outputId": "27157ac2-572c-441d-9195-6ff9a0eb8986"
      },
      "execution_count": 16,
      "outputs": [
        {
          "output_type": "execute_result",
          "data": {
            "text/plain": [
              "torch.Size([1, 6, 13, 13])"
            ]
          },
          "metadata": {},
          "execution_count": 16
        }
      ]
    },
    {
      "cell_type": "markdown",
      "source": [
        "# 2nd Convolution layer"
      ],
      "metadata": {
        "id": "I3oIP9lWiQaX"
      }
    },
    {
      "cell_type": "code",
      "source": [
        "x = F.relu(conv2(x))\n",
        "x.shape\n"
      ],
      "metadata": {
        "colab": {
          "base_uri": "https://localhost:8080/"
        },
        "id": "iVuXQc6hiUq7",
        "outputId": "9dde5e26-5e3b-4e01-b10d-09d08160c7e5"
      },
      "execution_count": 17,
      "outputs": [
        {
          "output_type": "execute_result",
          "data": {
            "text/plain": [
              "torch.Size([1, 16, 11, 11])"
            ]
          },
          "metadata": {},
          "execution_count": 17
        }
      ]
    },
    {
      "cell_type": "markdown",
      "source": [
        "# 2nd Maxpool\n"
      ],
      "metadata": {
        "id": "31jJvb3kimKN"
      }
    },
    {
      "cell_type": "code",
      "source": [
        "x = F.max_pool2d(x,kernel_size=2,stride=2)\n",
        "x.shape"
      ],
      "metadata": {
        "colab": {
          "base_uri": "https://localhost:8080/"
        },
        "id": "uSAOuqrYionw",
        "outputId": "0bd40158-b3f4-49b6-815c-a42fab568fca"
      },
      "execution_count": 18,
      "outputs": [
        {
          "output_type": "execute_result",
          "data": {
            "text/plain": [
              "torch.Size([1, 16, 5, 5])"
            ]
          },
          "metadata": {},
          "execution_count": 18
        }
      ]
    },
    {
      "cell_type": "markdown",
      "source": [
        "# Defining the Model\n",
        "Now the actual proper implementation\n"
      ],
      "metadata": {
        "id": "aaIGrcSOjYN4"
      }
    },
    {
      "cell_type": "code",
      "source": [
        "class ConvolutionalNetwork(nn.Module):\n",
        "  def __init__(self):\n",
        "    super().__init__()\n",
        "    #defining convolutional layer (already done above but now implementing in class)\n",
        "    self.conv1 = nn.Conv2d(in_channels=1, out_channels=6, kernel_size=3,stride = 1)\n",
        "    self.conv2 = nn.Conv2d(in_channels=6, out_channels=16, kernel_size=3,stride = 1)\n",
        "    #defining fully connected layer\n",
        "    self.fc1 = nn.Linear(5*5*16,120)    #(input dimension, output dimension/no. neurons)\n",
        "    self.fc2 = nn.Linear(120,84)\n",
        "    self.fc3 = nn.Linear(84,10) #output layer\n",
        "\n",
        "  def forward(self,X):\n",
        "    X = F.relu(self.conv1(X))\n",
        "    X = F.max_pool2d(X,kernel_size=2,stride=2)\n",
        "    X = F.relu(self.conv2(X))\n",
        "    X = F.max_pool2d(X,kernel_size=2,stride=2)\n",
        "\n",
        "    #Flatten the data or flatten layer in tf\n",
        "    X = X.view(-1,16*5*5) #you can calculate the dimension from the outpute shape from the last maxPool\n",
        "\n",
        "    #Fully connected layer\n",
        "    X = F.relu(self.fc1(X))\n",
        "    X = F.relu(self.fc2(X))\n",
        "    X = self.fc3(X)\n",
        "    return F.log_softmax(X, dim=1)\n",
        "\n",
        "\n",
        "\n"
      ],
      "metadata": {
        "id": "tNm4Skusjbxa"
      },
      "execution_count": 23,
      "outputs": []
    },
    {
      "cell_type": "markdown",
      "source": [
        "#Create an instance of the model"
      ],
      "metadata": {
        "id": "6CISAbu4mfku"
      }
    },
    {
      "cell_type": "code",
      "source": [
        "torch.manual_seed(41)\n",
        "model = ConvolutionalNetwork()\n",
        "model"
      ],
      "metadata": {
        "colab": {
          "base_uri": "https://localhost:8080/"
        },
        "id": "NS2KbEZemiYy",
        "outputId": "b40ebd93-7657-4686-bb42-a2b5a2938691"
      },
      "execution_count": 24,
      "outputs": [
        {
          "output_type": "execute_result",
          "data": {
            "text/plain": [
              "ConvolutionalNetwork(\n",
              "  (conv1): Conv2d(1, 6, kernel_size=(3, 3), stride=(1, 1))\n",
              "  (conv2): Conv2d(6, 16, kernel_size=(3, 3), stride=(1, 1))\n",
              "  (fc1): Linear(in_features=400, out_features=120, bias=True)\n",
              "  (fc2): Linear(in_features=120, out_features=84, bias=True)\n",
              "  (fc3): Linear(in_features=84, out_features=10, bias=True)\n",
              ")"
            ]
          },
          "metadata": {},
          "execution_count": 24
        }
      ]
    },
    {
      "cell_type": "markdown",
      "source": [
        "#Loss function and Optimizer"
      ],
      "metadata": {
        "id": "zCnSNfL2nHWK"
      }
    },
    {
      "cell_type": "code",
      "source": [
        "criterion = nn.CrossEntropyLoss()\n",
        "optimizer = torch.optim.Adam(model.parameters(), lr=0.001)"
      ],
      "metadata": {
        "id": "N29AI0_InKil"
      },
      "execution_count": 21,
      "outputs": []
    },
    {
      "cell_type": "markdown",
      "source": [
        "#Train and Test"
      ],
      "metadata": {
        "id": "tEtbpeE427YG"
      }
    },
    {
      "cell_type": "code",
      "source": [
        "import time\n",
        "start_time = time.time()\n",
        "# variables to track things\n",
        "epoch = 5\n",
        "train_losses = []\n",
        "test_losses = []\n",
        "train_correct = []\n",
        "test_correct = []\n",
        "# training epoch\n",
        "for i in range(epoch):\n",
        "  trn_corr = 0\n",
        "  tst_corr = 0\n",
        "  # Train\n",
        "  for b,(X_train, y_train) in enumerate(train_loader):\n",
        "    b+=1 # start batches from 1\n",
        "    y_pred = model(X_train) #get the predicted values from our CNN model\n",
        "    loss = criterion(y_pred,y_train)\n",
        "    predicted = torch.max(y_pred.data,1)[1] # torch.max(input, dim, keepdim=False, *, out=None)\n",
        "    batch_corr = (predicted == y_train).sum()\n",
        "    trn_corr += batch_corr\n",
        "    # update parameters\n",
        "    optimizer.zero_grad() #reset the gradient to zero cuz not RNN\n",
        "    loss.backward()\n",
        "    optimizer.step()\n",
        "    # Print out some results\n",
        "    if b%600 == 0:\n",
        "      print(f'Epoch: {i} Batch: {b} Loss: {loss.item()}')\n",
        "\n",
        "  # append the losses to keep track through list\n",
        "  train_losses.append(loss)\n",
        "  train_correct.append(trn_corr)\n",
        "\n",
        "  # Test\n",
        "  with torch.no_grad():\n",
        "    for b,(X_test, y_test) in enumerate(test_loader):\n",
        "      y_val = model(X_test)\n",
        "      predicted = torch.max(y_val.data,1)[1]\n",
        "      tst_corr += (predicted == y_test).sum()\n",
        "\n",
        "  loss = criterion(y_val, y_test)\n",
        "  test_losses.append(loss)\n",
        "  test_correct.append(tst_corr)\n",
        "\n",
        "\n",
        "\n",
        "current_time = time.time()\n",
        "total = current_time - start_time\n",
        "print(f'Trainking took:{total/60} minutes!')"
      ],
      "metadata": {
        "colab": {
          "base_uri": "https://localhost:8080/"
        },
        "id": "aYucZvA12-Zx",
        "outputId": "7adf1c8e-26e7-4136-878c-47c871b5f51f"
      },
      "execution_count": 33,
      "outputs": [
        {
          "output_type": "stream",
          "name": "stdout",
          "text": [
            "Epoch: 0 Batch: 600 Loss: 2.300760507583618\n",
            "Epoch: 0 Batch: 1200 Loss: 2.3172507286071777\n",
            "Epoch: 0 Batch: 1800 Loss: 2.3159635066986084\n",
            "Epoch: 0 Batch: 2400 Loss: 2.3244192600250244\n",
            "Epoch: 0 Batch: 3000 Loss: 2.279261589050293\n",
            "Epoch: 0 Batch: 3600 Loss: 2.309140205383301\n",
            "Epoch: 0 Batch: 4200 Loss: 2.3167471885681152\n",
            "Epoch: 0 Batch: 4800 Loss: 2.329899311065674\n",
            "Epoch: 0 Batch: 5400 Loss: 2.289776086807251\n",
            "Epoch: 0 Batch: 6000 Loss: 2.3246476650238037\n",
            "Epoch: 1 Batch: 600 Loss: 2.2748961448669434\n",
            "Epoch: 1 Batch: 1200 Loss: 2.291625738143921\n",
            "Epoch: 1 Batch: 1800 Loss: 2.315514087677002\n",
            "Epoch: 1 Batch: 2400 Loss: 2.285210371017456\n",
            "Epoch: 1 Batch: 3000 Loss: 2.3239006996154785\n",
            "Epoch: 1 Batch: 3600 Loss: 2.2892229557037354\n",
            "Epoch: 1 Batch: 4200 Loss: 2.287318706512451\n",
            "Epoch: 1 Batch: 4800 Loss: 2.3528361320495605\n",
            "Epoch: 1 Batch: 5400 Loss: 2.3181633949279785\n",
            "Epoch: 1 Batch: 6000 Loss: 2.3091654777526855\n",
            "Epoch: 2 Batch: 600 Loss: 2.3023416996002197\n",
            "Epoch: 2 Batch: 1200 Loss: 2.3351569175720215\n",
            "Epoch: 2 Batch: 1800 Loss: 2.3292813301086426\n",
            "Epoch: 2 Batch: 2400 Loss: 2.31017804145813\n",
            "Epoch: 2 Batch: 3000 Loss: 2.3337836265563965\n",
            "Epoch: 2 Batch: 3600 Loss: 2.2919113636016846\n",
            "Epoch: 2 Batch: 4200 Loss: 2.3283886909484863\n",
            "Epoch: 2 Batch: 4800 Loss: 2.3003172874450684\n",
            "Epoch: 2 Batch: 5400 Loss: 2.3129453659057617\n",
            "Epoch: 2 Batch: 6000 Loss: 2.2866625785827637\n",
            "Epoch: 3 Batch: 600 Loss: 2.3060038089752197\n",
            "Epoch: 3 Batch: 1200 Loss: 2.305840015411377\n",
            "Epoch: 3 Batch: 1800 Loss: 2.3238067626953125\n",
            "Epoch: 3 Batch: 2400 Loss: 2.3098905086517334\n",
            "Epoch: 3 Batch: 3000 Loss: 2.2950901985168457\n",
            "Epoch: 3 Batch: 3600 Loss: 2.31068754196167\n",
            "Epoch: 3 Batch: 4200 Loss: 2.307049512863159\n",
            "Epoch: 3 Batch: 4800 Loss: 2.3328425884246826\n",
            "Epoch: 3 Batch: 5400 Loss: 2.2829196453094482\n",
            "Epoch: 3 Batch: 6000 Loss: 2.2994532585144043\n",
            "Epoch: 4 Batch: 600 Loss: 2.327202796936035\n",
            "Epoch: 4 Batch: 1200 Loss: 2.310762643814087\n",
            "Epoch: 4 Batch: 1800 Loss: 2.2990562915802\n",
            "Epoch: 4 Batch: 2400 Loss: 2.3355212211608887\n",
            "Epoch: 4 Batch: 3000 Loss: 2.298175811767578\n",
            "Epoch: 4 Batch: 3600 Loss: 2.2831547260284424\n",
            "Epoch: 4 Batch: 4200 Loss: 2.292726993560791\n",
            "Epoch: 4 Batch: 4800 Loss: 2.2677273750305176\n",
            "Epoch: 4 Batch: 5400 Loss: 2.27400541305542\n",
            "Epoch: 4 Batch: 6000 Loss: 2.2754719257354736\n",
            "Trainking took:3.590655318895976 minutes!\n"
          ]
        }
      ]
    },
    {
      "cell_type": "markdown",
      "source": [
        "#Graphing the loss"
      ],
      "metadata": {
        "id": "3zxr3UF0BCC5"
      }
    },
    {
      "cell_type": "code",
      "source": [
        "train_losses = [tl.item() for tl in train_losses] # convert tensor to python list\n",
        "plt.plot(train_losses, label=\"Training loss\")\n",
        "plt.plot(test_losses, label =\"Validation loss\")\n",
        "plt.title(\"Loss at Epoch\")\n",
        "plt.legend()"
      ],
      "metadata": {
        "colab": {
          "base_uri": "https://localhost:8080/",
          "height": 470
        },
        "id": "lJHFi7J2BFDV",
        "outputId": "e346c64f-e2d5-404f-a49f-71268464fa17"
      },
      "execution_count": 26,
      "outputs": [
        {
          "output_type": "execute_result",
          "data": {
            "text/plain": [
              "<matplotlib.legend.Legend at 0x7896b5f7f3a0>"
            ]
          },
          "metadata": {},
          "execution_count": 26
        },
        {
          "output_type": "display_data",
          "data": {
            "text/plain": [
              "<Figure size 640x480 with 1 Axes>"
            ],
            "image/png": "[encoded data removed]"
          },
          "metadata": {}
        }
      ]
    },
    {
      "cell_type": "markdown",
      "source": [
        "#Graph Accuracy"
      ],
      "metadata": {
        "id": "p0S8LovrFcor"
      }
    },
    {
      "cell_type": "code",
      "source": [
        "plt.plot([t/600 for t in train_correct], label =\"Training Accuracy\")\n",
        "plt.plot([t/100 for t in test_correct], label= \"Validation Accuracy\")\n",
        "plt.title(\"Accuracy at the endof the each Epoch\")\n",
        "plt.legend()"
      ],
      "metadata": {
        "colab": {
          "base_uri": "https://localhost:8080/",
          "height": 470
        },
        "id": "VxC_cfEcFfls",
        "outputId": "024186c2-5405-4474-90b4-eaf9eecdc077"
      },
      "execution_count": 28,
      "outputs": [
        {
          "output_type": "execute_result",
          "data": {
            "text/plain": [
              "<matplotlib.legend.Legend at 0x7896b57eb0d0>"
            ]
          },
          "metadata": {},
          "execution_count": 28
        },
        {
          "output_type": "display_data",
          "data": {
            "text/plain": [
              "<Figure size 640x480 with 1 Axes>"
            ],
            "image/png": "[encoded data removed]"
          },
          "metadata": {}
        }
      ]
    },
    {
      "cell_type": "markdown",
      "source": [
        "#Accuracy"
      ],
      "metadata": {
        "id": "CAp4X6Z7G7l-"
      }
    },
    {
      "cell_type": "code",
      "source": [
        "test_load_everything = DataLoader(test_data, batch_size = len(test_data), shuffle=False) #load everything\n",
        "with torch.no_grad():\n",
        "  correct = 0\n",
        "  for X_test, y_test in test_load_everything:\n",
        "    y_val = model(X_test)\n",
        "    predicted = torch.max(y_val,1)[1]\n",
        "    correct+= (predicted == y_test).sum()\n",
        "\n",
        "correct.item()/len(test_data)\n"
      ],
      "metadata": {
        "colab": {
          "base_uri": "https://localhost:8080/"
        },
        "id": "BUxc6icIG9IB",
        "outputId": "5af7023d-18cd-493f-bd1d-b6f3fccb2872"
      },
      "execution_count": 32,
      "outputs": [
        {
          "output_type": "execute_result",
          "data": {
            "text/plain": [
              "0.0982"
            ]
          },
          "metadata": {},
          "execution_count": 32
        }
      ]
    },
    {
      "cell_type": "markdown",
      "source": [
        "#Testing an actual image"
      ],
      "metadata": {
        "id": "6-eouosULXNV"
      }
    },
    {
      "cell_type": "code",
      "source": [
        "test_data[4169]"
      ],
      "metadata": {
        "colab": {
          "base_uri": "https://localhost:8080/"
        },
        "id": "2ayJDfCwLeM7",
        "outputId": "9f5e8770-7647-4df4-ab33-7a1c4b263c9d"
      },
      "execution_count": 34,
      "outputs": [
        {
          "output_type": "execute_result",
          "data": {
            "text/plain": [
              "(tensor([[[0.0000, 0.0000, 0.0000, 0.0000, 0.0000, 0.0000, 0.0000, 0.0000,\n",
              "           0.0000, 0.0000, 0.0000, 0.0000, 0.0000, 0.0000, 0.0000, 0.0000,\n",
              "           0.0000, 0.0000, 0.0000, 0.0000, 0.0000, 0.0000, 0.0000, 0.0000,\n",
              "           0.0000, 0.0000, 0.0000, 0.0000],\n",
              "          [0.0000, 0.0000, 0.0000, 0.0000, 0.0000, 0.0000, 0.0000, 0.0000,\n",
              "           0.0000, 0.0000, 0.0000, 0.0000, 0.0000, 0.0000, 0.0000, 0.0000,\n",
              "           0.0000, 0.0000, 0.0000, 0.0000, 0.0000, 0.0000, 0.0000, 0.0000,\n",
              "           0.0000, 0.0000, 0.0000, 0.0000],\n",
              "          [0.0000, 0.0000, 0.0000, 0.0000, 0.0000, 0.0000, 0.0000, 0.0000,\n",
              "           0.0000, 0.0000, 0.0000, 0.0000, 0.0000, 0.0000, 0.0000, 0.0000,\n",
              "           0.0000, 0.0000, 0.0000, 0.0000, 0.0000, 0.0000, 0.0000, 0.0000,\n",
              "           0.0000, 0.0000, 0.0000, 0.0000],\n",
              "          [0.0000, 0.0000, 0.0000, 0.0000, 0.0000, 0.0000, 0.0000, 0.0000,\n",
              "           0.0000, 0.0000, 0.0000, 0.0000, 0.0000, 0.0000, 0.0000, 0.0000,\n",
              "           0.0000, 0.0000, 0.0000, 0.0000, 0.0000, 0.0000, 0.0000, 0.0000,\n",
              "           0.0000, 0.0000, 0.0000, 0.0000],\n",
              "          [0.0000, 0.0000, 0.0000, 0.0000, 0.0000, 0.0000, 0.0000, 0.0000,\n",
              "           0.0000, 0.0000, 0.0000, 0.0000, 0.0000, 0.0000, 0.7490, 1.0000,\n",
              "           0.5020, 0.0000, 0.0000, 0.0000, 0.0000, 0.0000, 0.0000, 0.0000,\n",
              "           0.0000, 0.0000, 0.0000, 0.0000],\n",
              "          [0.0000, 0.0000, 0.0000, 0.0000, 0.0000, 0.0000, 0.0000, 0.0000,\n",
              "           0.0000, 0.0000, 0.0000, 0.0000, 0.0000, 0.5020, 1.0000, 1.0000,\n",
              "           1.0000, 0.2510, 0.0000, 0.0000, 0.0000, 0.0000, 0.0000, 0.0000,\n",
              "           0.0000, 0.0000, 0.0000, 0.0000],\n",
              "          [0.0000, 0.0000, 0.0000, 0.0000, 0.0000, 0.0000, 0.0000, 0.0000,\n",
              "           0.0000, 0.0000, 0.0000, 0.0000, 0.0000, 0.5020, 1.0000, 1.0000,\n",
              "           1.0000, 0.2510, 0.0000, 0.0000, 0.0000, 0.0000, 0.0000, 0.0000,\n",
              "           0.0000, 0.0000, 0.0000, 0.0000],\n",
              "          [0.0000, 0.0000, 0.0000, 0.0000, 0.0000, 0.0000, 0.0000, 0.0000,\n",
              "           0.0000, 0.0000, 0.0000, 0.0000, 0.0000, 0.5020, 1.0000, 1.0000,\n",
              "           1.0000, 0.0000, 0.0000, 0.0000, 0.0000, 0.0000, 0.0000, 0.0000,\n",
              "           0.0000, 0.0000, 0.0000, 0.0000],\n",
              "          [0.0000, 0.0000, 0.0000, 0.0000, 0.0000, 0.0000, 0.0000, 0.0000,\n",
              "           0.0000, 0.0000, 0.0000, 0.0000, 0.0000, 0.5020, 1.0000, 1.0000,\n",
              "           1.0000, 0.0000, 0.0000, 0.0000, 0.0000, 0.0000, 0.0000, 0.0000,\n",
              "           0.0000, 0.0000, 0.0000, 0.0000],\n",
              "          [0.0000, 0.0000, 0.0000, 0.0000, 0.0000, 0.0000, 0.0000, 0.0000,\n",
              "           0.0000, 0.0000, 0.0000, 0.0000, 0.0000, 0.5020, 1.0000, 1.0000,\n",
              "           1.0000, 0.0000, 0.0000, 0.0000, 0.0000, 0.0000, 0.0000, 0.0000,\n",
              "           0.0000, 0.0000, 0.0000, 0.0000],\n",
              "          [0.0000, 0.0000, 0.0000, 0.0000, 0.0000, 0.0000, 0.0000, 0.0000,\n",
              "           0.0000, 0.0000, 0.0000, 0.0000, 0.0000, 0.5020, 1.0000, 1.0000,\n",
              "           1.0000, 0.0000, 0.0000, 0.0000, 0.0000, 0.0000, 0.0000, 0.0000,\n",
              "           0.0000, 0.0000, 0.0000, 0.0000],\n",
              "          [0.0000, 0.0000, 0.0000, 0.0000, 0.0000, 0.0000, 0.0000, 0.0000,\n",
              "           0.0000, 0.0000, 0.0000, 0.0000, 0.0000, 0.5020, 1.0000, 1.0000,\n",
              "           1.0000, 0.0000, 0.0000, 0.0000, 0.0000, 0.0000, 0.0000, 0.0000,\n",
              "           0.0000, 0.0000, 0.0000, 0.0000],\n",
              "          [0.0000, 0.0000, 0.0000, 0.0000, 0.0000, 0.0000, 0.0000, 0.0000,\n",
              "           0.0000, 0.0000, 0.0000, 0.0000, 0.0000, 0.7490, 1.0000, 1.0000,\n",
              "           1.0000, 0.0000, 0.0000, 0.0000, 0.0000, 0.0000, 0.0000, 0.0000,\n",
              "           0.0000, 0.0000, 0.0000, 0.0000],\n",
              "          [0.0000, 0.0000, 0.0000, 0.0000, 0.0000, 0.0000, 0.0000, 0.0000,\n",
              "           0.0000, 0.0000, 0.0000, 0.0000, 0.0000, 1.0000, 1.0000, 1.0000,\n",
              "           1.0000, 0.0000, 0.0000, 0.0000, 0.0000, 0.0000, 0.0000, 0.0000,\n",
              "           0.0000, 0.0000, 0.0000, 0.0000],\n",
              "          [0.0000, 0.0000, 0.0000, 0.0000, 0.0000, 0.0000, 0.0000, 0.0000,\n",
              "           0.0000, 0.0000, 0.0000, 0.0000, 0.0000, 1.0000, 1.0000, 1.0000,\n",
              "           1.0000, 0.0000, 0.0000, 0.0000, 0.0000, 0.0000, 0.0000, 0.0000,\n",
              "           0.0000, 0.0000, 0.0000, 0.0000],\n",
              "          [0.0000, 0.0000, 0.0000, 0.0000, 0.0000, 0.0000, 0.0000, 0.0000,\n",
              "           0.0000, 0.0000, 0.0000, 0.0000, 0.2510, 1.0000, 1.0000, 1.0000,\n",
              "           1.0000, 0.0000, 0.0000, 0.0000, 0.0000, 0.0000, 0.0000, 0.0000,\n",
              "           0.0000, 0.0000, 0.0000, 0.0000],\n",
              "          [0.0000, 0.0000, 0.0000, 0.0000, 0.0000, 0.0000, 0.0000, 0.0000,\n",
              "           0.0000, 0.0000, 0.0000, 0.0000, 0.5020, 1.0000, 1.0000, 1.0000,\n",
              "           0.5020, 0.0000, 0.0000, 0.0000, 0.0000, 0.0000, 0.0000, 0.0000,\n",
              "           0.0000, 0.0000, 0.0000, 0.0000],\n",
              "          [0.0000, 0.0000, 0.0000, 0.0000, 0.0000, 0.0000, 0.0000, 0.0000,\n",
              "           0.0000, 0.0000, 0.0000, 0.0000, 0.5020, 1.0000, 1.0000, 1.0000,\n",
              "           0.5020, 0.0000, 0.0000, 0.0000, 0.0000, 0.0000, 0.0000, 0.0000,\n",
              "           0.0000, 0.0000, 0.0000, 0.0000],\n",
              "          [0.0000, 0.0000, 0.0000, 0.0000, 0.0000, 0.0000, 0.0000, 0.0000,\n",
              "           0.0000, 0.0000, 0.0000, 0.0000, 0.5020, 1.0000, 1.0000, 1.0000,\n",
              "           0.0000, 0.0000, 0.0000, 0.0000, 0.0000, 0.0000, 0.0000, 0.0000,\n",
              "           0.0000, 0.0000, 0.0000, 0.0000],\n",
              "          [0.0000, 0.0000, 0.0000, 0.0000, 0.0000, 0.0000, 0.0000, 0.0000,\n",
              "           0.0000, 0.0000, 0.0000, 0.0000, 1.0000, 1.0000, 1.0000, 0.7490,\n",
              "           0.0000, 0.0000, 0.0000, 0.0000, 0.0000, 0.0000, 0.0000, 0.0000,\n",
              "           0.0000, 0.0000, 0.0000, 0.0000],\n",
              "          [0.0000, 0.0000, 0.0000, 0.0000, 0.0000, 0.0000, 0.0000, 0.0000,\n",
              "           0.0000, 0.0000, 0.0000, 0.0000, 1.0000, 1.0000, 1.0000, 1.0000,\n",
              "           0.2510, 0.0000, 0.0000, 0.0000, 0.0000, 0.0000, 0.0000, 0.0000,\n",
              "           0.0000, 0.0000, 0.0000, 0.0000],\n",
              "          [0.0000, 0.0000, 0.0000, 0.0000, 0.0000, 0.0000, 0.0000, 0.0000,\n",
              "           0.0000, 0.0000, 0.0000, 0.0000, 1.0000, 1.0000, 1.0000, 1.0000,\n",
              "           0.5020, 0.0000, 0.0000, 0.0000, 0.0000, 0.0000, 0.0000, 0.0000,\n",
              "           0.0000, 0.0000, 0.0000, 0.0000],\n",
              "          [0.0000, 0.0000, 0.0000, 0.0000, 0.0000, 0.0000, 0.0000, 0.0000,\n",
              "           0.0000, 0.0000, 0.0000, 0.0000, 0.7490, 1.0000, 1.0000, 1.0000,\n",
              "           0.0000, 0.0000, 0.0000, 0.0000, 0.0000, 0.0000, 0.0000, 0.0000,\n",
              "           0.0000, 0.0000, 0.0000, 0.0000],\n",
              "          [0.0000, 0.0000, 0.0000, 0.0000, 0.0000, 0.0000, 0.0000, 0.0000,\n",
              "           0.0000, 0.0000, 0.0000, 0.0000, 0.2510, 0.7490, 1.0000, 0.2510,\n",
              "           0.0000, 0.0000, 0.0000, 0.0000, 0.0000, 0.0000, 0.0000, 0.0000,\n",
              "           0.0000, 0.0000, 0.0000, 0.0000],\n",
              "          [0.0000, 0.0000, 0.0000, 0.0000, 0.0000, 0.0000, 0.0000, 0.0000,\n",
              "           0.0000, 0.0000, 0.0000, 0.0000, 0.0000, 0.0000, 0.0000, 0.0000,\n",
              "           0.0000, 0.0000, 0.0000, 0.0000, 0.0000, 0.0000, 0.0000, 0.0000,\n",
              "           0.0000, 0.0000, 0.0000, 0.0000],\n",
              "          [0.0000, 0.0000, 0.0000, 0.0000, 0.0000, 0.0000, 0.0000, 0.0000,\n",
              "           0.0000, 0.0000, 0.0000, 0.0000, 0.0000, 0.0000, 0.0000, 0.0000,\n",
              "           0.0000, 0.0000, 0.0000, 0.0000, 0.0000, 0.0000, 0.0000, 0.0000,\n",
              "           0.0000, 0.0000, 0.0000, 0.0000],\n",
              "          [0.0000, 0.0000, 0.0000, 0.0000, 0.0000, 0.0000, 0.0000, 0.0000,\n",
              "           0.0000, 0.0000, 0.0000, 0.0000, 0.0000, 0.0000, 0.0000, 0.0000,\n",
              "           0.0000, 0.0000, 0.0000, 0.0000, 0.0000, 0.0000, 0.0000, 0.0000,\n",
              "           0.0000, 0.0000, 0.0000, 0.0000],\n",
              "          [0.0000, 0.0000, 0.0000, 0.0000, 0.0000, 0.0000, 0.0000, 0.0000,\n",
              "           0.0000, 0.0000, 0.0000, 0.0000, 0.0000, 0.0000, 0.0000, 0.0000,\n",
              "           0.0000, 0.0000, 0.0000, 0.0000, 0.0000, 0.0000, 0.0000, 0.0000,\n",
              "           0.0000, 0.0000, 0.0000, 0.0000]]]),\n",
              " 1)"
            ]
          },
          "metadata": {},
          "execution_count": 34
        }
      ]
    },
    {
      "cell_type": "code",
      "source": [
        "# Reshape it\n",
        "test_data[4169][0].reshape(28,28)\n",
        "# show it using pyplot\n",
        "plt.imshow(test_data[4169][0].reshape(28,28))"
      ],
      "metadata": {
        "colab": {
          "base_uri": "https://localhost:8080/",
          "height": 448
        },
        "id": "CQVe5Y9gL34w",
        "outputId": "e6e50b81-c459-4f9e-d014-f02879252088"
      },
      "execution_count": 36,
      "outputs": [
        {
          "output_type": "execute_result",
          "data": {
            "text/plain": [
              "<matplotlib.image.AxesImage at 0x7896b57b6b90>"
            ]
          },
          "metadata": {},
          "execution_count": 36
        },
        {
          "output_type": "display_data",
          "data": {
            "text/plain": [
              "<Figure size 640x480 with 1 Axes>"
            ],
            "image/png": "[encoded data removed]"
          },
          "metadata": {}
        }
      ]
    },
    {
      "cell_type": "code",
      "source": [
        "#pass the image through the model\n",
        "model.eval()\n",
        "with torch.no_grad():\n",
        "  new_prediction = model(test_data[4169][0].view(1,1,28,28)) # batch size of 1, 1 color channel and 28x28 image\n",
        "#print the predicted\n",
        "print(f'Predicted: {torch.argmax(new_prediction)}')"
      ],
      "metadata": {
        "colab": {
          "base_uri": "https://localhost:8080/"
        },
        "id": "vbfyBIYSMNu1",
        "outputId": "ed681a45-4635-4c07-bbfb-cad92d2ea34c"
      },
      "execution_count": 40,
      "outputs": [
        {
          "output_type": "stream",
          "name": "stdout",
          "text": [
            "Predicted: 4\n"
          ]
        }
      ]
    }
  ]
}