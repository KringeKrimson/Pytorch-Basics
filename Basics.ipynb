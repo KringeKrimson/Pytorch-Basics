{
  "nbformat": 4,
  "nbformat_minor": 0,
  "metadata": {
    "colab": {
      "provenance": [],
      "authorship_tag": "ABX9TyPW2K5ETfnfujXIuEPWCcP4",
      "include_colab_link": true
    },
    "kernelspec": {
      "name": "python3",
      "display_name": "Python 3"
    },
    "language_info": {
      "name": "python"
    }
  },
  "cells": [
    {
      "cell_type": "markdown",
      "metadata": {
        "id": "view-in-github",
        "colab_type": "text"
      },
      "source": [
        "<a href=\"https://colab.research.google.com/github/KringeKrimson/Pytorch-Basics/blob/main/Basics.ipynb\" target=\"_parent\"><img src=\"https://colab.research.google.com/assets/colab-badge.svg\" alt=\"Open In Colab\"/></a>"
      ]
    },
    {
      "cell_type": "code",
      "execution_count": null,
      "metadata": {
        "id": "VLJ5utu2Rxdw"
      },
      "outputs": [],
      "source": [
        "import torch\n",
        "import numpy as np"
      ]
    },
    {
      "cell_type": "markdown",
      "source": [
        "#Tensors\n",
        "- A torch. Tensor is multidimensional matrix constaining elements of single data type.\n",
        "- It is similar to Numpy Arrays, but more adjusted to work better in CPUs and GPUs.\n",
        "- Its default data type is float32."
      ],
      "metadata": {
        "id": "53kGc6fUZ9FI"
      }
    },
    {
      "cell_type": "code",
      "source": [
        "tensor_2d = torch.randn(3,4)\n",
        "print(tensor_2d.dtype)"
      ],
      "metadata": {
        "colab": {
          "base_uri": "https://localhost:8080/"
        },
        "id": "Ppwydfi_comO",
        "outputId": "7df23d11-3429-4f29-f0fb-a9954c3ce4b7"
      },
      "execution_count": 15,
      "outputs": [
        {
          "output_type": "stream",
          "name": "stdout",
          "text": [
            "torch.float32\n"
          ]
        }
      ]
    },
    {
      "cell_type": "code",
      "source": [
        "numpy_array = np.random.rand(3,4)\n",
        "numpy_array"
      ],
      "metadata": {
        "colab": {
          "base_uri": "https://localhost:8080/"
        },
        "id": "P03OittadHHC",
        "outputId": "4125135d-52d7-40d3-dab5-d7318fd7c53c"
      },
      "execution_count": 11,
      "outputs": [
        {
          "output_type": "execute_result",
          "data": {
            "text/plain": [
              "array([[0.21194713, 0.46209189, 0.60570029, 0.63308933],\n",
              "       [0.78254921, 0.92781072, 0.29383848, 0.51621395],\n",
              "       [0.08582528, 0.86524603, 0.59971352, 0.01627598]])"
            ]
          },
          "metadata": {},
          "execution_count": 11
        }
      ]
    },
    {
      "cell_type": "markdown",
      "source": [
        "#Note\n",
        "Here the dtype is float64 because the default for the numpy is float64."
      ],
      "metadata": {
        "id": "rvzrkkBbd4hO"
      }
    },
    {
      "cell_type": "code",
      "source": [
        "## Converting numpy array to tensor\n",
        "to_tensor = torch.tensor(numpy_array)\n",
        "to_tensor"
      ],
      "metadata": {
        "colab": {
          "base_uri": "https://localhost:8080/"
        },
        "id": "Wmnf-CXAdPop",
        "outputId": "933d92fb-2324-4419-ae4f-ebfa6a95a7b5"
      },
      "execution_count": 12,
      "outputs": [
        {
          "output_type": "execute_result",
          "data": {
            "text/plain": [
              "tensor([[0.2119, 0.4621, 0.6057, 0.6331],\n",
              "        [0.7825, 0.9278, 0.2938, 0.5162],\n",
              "        [0.0858, 0.8652, 0.5997, 0.0163]], dtype=torch.float64)"
            ]
          },
          "metadata": {},
          "execution_count": 12
        }
      ]
    },
    {
      "cell_type": "markdown",
      "source": [
        "#Further functionalities:\n",
        "Check: https://pytorch.org/docs/stable/tensors.html"
      ],
      "metadata": {
        "id": "vus-AFscePCH"
      }
    },
    {
      "cell_type": "markdown",
      "source": [
        "#Tensor Operations"
      ],
      "metadata": {
        "id": "6SzLpMn9kQAI"
      }
    },
    {
      "cell_type": "code",
      "source": [
        "my_torch = torch.arange(10)\n",
        "my_torch"
      ],
      "metadata": {
        "colab": {
          "base_uri": "https://localhost:8080/"
        },
        "id": "7fCKb7cvkKso",
        "outputId": "11c53c4e-73c8-407c-877b-175db31d6d0c"
      },
      "execution_count": 16,
      "outputs": [
        {
          "output_type": "execute_result",
          "data": {
            "text/plain": [
              "tensor([0, 1, 2, 3, 4, 5, 6, 7, 8, 9])"
            ]
          },
          "metadata": {},
          "execution_count": 16
        }
      ]
    },
    {
      "cell_type": "code",
      "source": [
        "my_torch = my_torch.reshape(2,5)\n",
        "my_torch"
      ],
      "metadata": {
        "colab": {
          "base_uri": "https://localhost:8080/"
        },
        "id": "0QdHf0R7kYXy",
        "outputId": "1ec6315c-d948-4837-f799-28ae88ab5cf3"
      },
      "execution_count": 17,
      "outputs": [
        {
          "output_type": "execute_result",
          "data": {
            "text/plain": [
              "tensor([[0, 1, 2, 3, 4],\n",
              "        [5, 6, 7, 8, 9]])"
            ]
          },
          "metadata": {},
          "execution_count": 17
        }
      ]
    },
    {
      "cell_type": "code",
      "source": [
        "my_torch[0,3]"
      ],
      "metadata": {
        "colab": {
          "base_uri": "https://localhost:8080/"
        },
        "id": "2BfBlg-3khbz",
        "outputId": "846ac21f-278c-4117-e3f3-71ae5e3f510c"
      },
      "execution_count": 21,
      "outputs": [
        {
          "output_type": "execute_result",
          "data": {
            "text/plain": [
              "tensor(3)"
            ]
          },
          "metadata": {},
          "execution_count": 21
        }
      ]
    },
    {
      "cell_type": "markdown",
      "source": [
        "In general the operations are very similar to Numpy.\n"
      ],
      "metadata": {
        "id": "BWqriKBJlrLD"
      }
    },
    {
      "cell_type": "markdown",
      "source": [
        "#View vs Reshape\n",
        "They may look similar but are quite different. Refer to the documentation"
      ],
      "metadata": {
        "id": "1Fdc6p1jl_Gi"
      }
    },
    {
      "cell_type": "code",
      "source": [
        "my_torch2 = torch.arange(10).view(2,-1)\n",
        "my_torch2"
      ],
      "metadata": {
        "colab": {
          "base_uri": "https://localhost:8080/"
        },
        "id": "WLPau4bMlyOm",
        "outputId": "31d3ffba-619e-4f8e-ba41-f3acaab10617"
      },
      "execution_count": 22,
      "outputs": [
        {
          "output_type": "execute_result",
          "data": {
            "text/plain": [
              "tensor([[0, 1, 2, 3, 4],\n",
              "        [5, 6, 7, 8, 9]])"
            ]
          },
          "metadata": {},
          "execution_count": 22
        }
      ]
    },
    {
      "cell_type": "code",
      "source": [
        "my_torch2[:,1]"
      ],
      "metadata": {
        "colab": {
          "base_uri": "https://localhost:8080/"
        },
        "id": "d3IXJ5Dql64P",
        "outputId": "ff36e307-7186-4486-8d05-9f2ad8a92aca"
      },
      "execution_count": 23,
      "outputs": [
        {
          "output_type": "execute_result",
          "data": {
            "text/plain": [
              "tensor([1, 6])"
            ]
          },
          "metadata": {},
          "execution_count": 23
        }
      ]
    },
    {
      "cell_type": "markdown",
      "source": [
        "#Tensor Math Operations\n",
        "- Add, Subtract, Multiply, Division, Remainders, Exponents\n",
        "- Shorthand and Longhand\n",
        "- Reassignment"
      ],
      "metadata": {
        "id": "MmWMkelSs7G5"
      }
    },
    {
      "cell_type": "code",
      "source": [
        "tensor_a = torch.tensor([1,2,3,4,5])\n",
        "tensor_b = torch.tensor([5,4,3,2,1])\n",
        "#Addition shorthand\n",
        "tensor_a + tensor_b"
      ],
      "metadata": {
        "colab": {
          "base_uri": "https://localhost:8080/"
        },
        "id": "qSGM4jhItODA",
        "outputId": "8325fbe1-ff29-4479-ec54-8277053e5768"
      },
      "execution_count": 24,
      "outputs": [
        {
          "output_type": "execute_result",
          "data": {
            "text/plain": [
              "tensor([6, 6, 6, 6, 6])"
            ]
          },
          "metadata": {},
          "execution_count": 24
        }
      ]
    },
    {
      "cell_type": "code",
      "source": [
        "# Addition Longhand\n",
        "torch.add(tensor_a,tensor_b)"
      ],
      "metadata": {
        "colab": {
          "base_uri": "https://localhost:8080/"
        },
        "id": "OHqrZv0btbvr",
        "outputId": "69a0a54a-609e-4d97-c1c6-8cc2978dd237"
      },
      "execution_count": 25,
      "outputs": [
        {
          "output_type": "execute_result",
          "data": {
            "text/plain": [
              "tensor([6, 6, 6, 6, 6])"
            ]
          },
          "metadata": {},
          "execution_count": 25
        }
      ]
    },
    {
      "cell_type": "code",
      "source": [
        "#Another way for Addition Longhand\n",
        "tensor_a.add(tensor_b)"
      ],
      "metadata": {
        "colab": {
          "base_uri": "https://localhost:8080/"
        },
        "id": "KsFcydEOuZyZ",
        "outputId": "944282d0-5eff-45b9-98b3-78d994ee5333"
      },
      "execution_count": 26,
      "outputs": [
        {
          "output_type": "execute_result",
          "data": {
            "text/plain": [
              "tensor([6, 6, 6, 6, 6])"
            ]
          },
          "metadata": {},
          "execution_count": 26
        }
      ]
    },
    {
      "cell_type": "code",
      "source": [
        "#Reassignment\n",
        "tensor_a.add_(tensor_b) # this is equal to \"tensor_a = tensor_a + tensor_b\""
      ],
      "metadata": {
        "id": "6X_yCHXbuiKY"
      },
      "execution_count": null,
      "outputs": []
    }
  ]
}